{
 "cells": [
  {
   "cell_type": "code",
   "execution_count": 1,
   "metadata": {},
   "outputs": [],
   "source": [
    "# Manipulação de dados\n",
    "import pandas as pd\n",
    "import numpy as np\n",
    "\n",
    "# Manipulação de datas\n",
    "from datetime import datetime, timedelta\n",
    "\n",
    "# Coleta cotações\n",
    "import yfinance as yf\n",
    "\n",
    "# Lista com os ativos\n",
    "import __list_ativos__"
   ]
  },
  {
   "cell_type": "code",
   "execution_count": 2,
   "metadata": {},
   "outputs": [
    {
     "data": {
      "text/plain": [
       "['AALR3.SA', 'ABCB4.SA']"
      ]
     },
     "execution_count": 2,
     "metadata": {},
     "output_type": "execute_result"
    }
   ],
   "source": [
    "# Lista com o nome dos ativos\n",
    "acao = __list_ativos__.lst_acao2"
   ]
  },
  {
   "cell_type": "code",
   "execution_count": 3,
   "metadata": {},
   "outputs": [],
   "source": [
    "# Pegando as datas para os ultimos 10 dias uteis\n",
    "date1, date2 = datetime.today() - timedelta(days=2), datetime.today() - timedelta(days=1)\n",
    "\n",
    "res = np.busday_count(date1.strftime('%Y-%m-%d'),\n",
    "                    date2.strftime('%Y-%m-%d'))\n",
    "i = 1\n",
    "while res < 11:\n",
    "    test_date1 = datetime.today() - timedelta(days=i)\n",
    "    res = np.busday_count(test_date1.strftime('%Y-%m-%d'),\n",
    "                    date2.strftime('%Y-%m-%d'))\n",
    "    i = i + 1"
   ]
  },
  {
   "cell_type": "code",
   "execution_count": 14,
   "metadata": {},
   "outputs": [
    {
     "data": {
      "text/html": [
       "<div>\n",
       "<style scoped>\n",
       "    .dataframe tbody tr th:only-of-type {\n",
       "        vertical-align: middle;\n",
       "    }\n",
       "\n",
       "    .dataframe tbody tr th {\n",
       "        vertical-align: top;\n",
       "    }\n",
       "\n",
       "    .dataframe thead th {\n",
       "        text-align: right;\n",
       "    }\n",
       "</style>\n",
       "<table border=\"1\" class=\"dataframe\">\n",
       "  <thead>\n",
       "    <tr style=\"text-align: right;\">\n",
       "      <th>Date</th>\n",
       "      <th>2022-07-18 00:00:00</th>\n",
       "      <th>2022-07-19 00:00:00</th>\n",
       "      <th>2022-07-20 00:00:00</th>\n",
       "      <th>2022-07-21 00:00:00</th>\n",
       "      <th>2022-07-22 00:00:00</th>\n",
       "      <th>2022-07-25 00:00:00</th>\n",
       "      <th>2022-07-26 00:00:00</th>\n",
       "      <th>2022-07-27 00:00:00</th>\n",
       "      <th>2022-07-28 00:00:00</th>\n",
       "      <th>2022-07-29 00:00:00</th>\n",
       "      <th>Total_Acumulado</th>\n",
       "    </tr>\n",
       "  </thead>\n",
       "  <tbody>\n",
       "    <tr>\n",
       "      <th>AALR3.SA</th>\n",
       "      <td>NaN</td>\n",
       "      <td>-0.002558</td>\n",
       "      <td>-0.002564</td>\n",
       "      <td>0.027763</td>\n",
       "      <td>0.000500</td>\n",
       "      <td>-0.006000</td>\n",
       "      <td>0.008551</td>\n",
       "      <td>0.001496</td>\n",
       "      <td>0.019422</td>\n",
       "      <td>0.005862</td>\n",
       "      <td>0.052474</td>\n",
       "    </tr>\n",
       "    <tr>\n",
       "      <th>ABCB4.SA</th>\n",
       "      <td>NaN</td>\n",
       "      <td>0.034727</td>\n",
       "      <td>0.041641</td>\n",
       "      <td>0.001790</td>\n",
       "      <td>-0.026206</td>\n",
       "      <td>0.028746</td>\n",
       "      <td>-0.011891</td>\n",
       "      <td>0.013237</td>\n",
       "      <td>0.027910</td>\n",
       "      <td>-0.004622</td>\n",
       "      <td>0.105332</td>\n",
       "    </tr>\n",
       "  </tbody>\n",
       "</table>\n",
       "</div>"
      ],
      "text/plain": [
       "Date      2022-07-18 00:00:00  2022-07-19 00:00:00  2022-07-20 00:00:00  \\\n",
       "AALR3.SA                  NaN            -0.002558            -0.002564   \n",
       "ABCB4.SA                  NaN             0.034727             0.041641   \n",
       "\n",
       "Date      2022-07-21 00:00:00  2022-07-22 00:00:00  2022-07-25 00:00:00  \\\n",
       "AALR3.SA             0.027763             0.000500            -0.006000   \n",
       "ABCB4.SA             0.001790            -0.026206             0.028746   \n",
       "\n",
       "Date      2022-07-26 00:00:00  2022-07-27 00:00:00  2022-07-28 00:00:00  \\\n",
       "AALR3.SA             0.008551             0.001496             0.019422   \n",
       "ABCB4.SA            -0.011891             0.013237             0.027910   \n",
       "\n",
       "Date      2022-07-29 00:00:00  Total_Acumulado  \n",
       "AALR3.SA             0.005862         0.052474  \n",
       "ABCB4.SA            -0.004622         0.105332  "
      ]
     },
     "execution_count": 14,
     "metadata": {},
     "output_type": "execute_result"
    }
   ],
   "source": [
    "# Inicio e fim das data de coletas das cotações\n",
    "start = test_date1 \n",
    "end = date2\n",
    "\n",
    "# Coletando as cotações de fechamento\n",
    "df = yf.download(acao, start=test_date1, end=date2, progress=False)['Adj Close']\n",
    "\n",
    "# Calculando os retonos diarios\n",
    "df = df.pct_change()\n",
    "\n",
    "df = df.T\n",
    "\n",
    "df['Total_Acumulado'] = df.sum(axis=1)\n",
    "\n",
    "df"
   ]
  }
 ],
 "metadata": {
  "kernelspec": {
   "display_name": "Python 3.10.5 ('.venv': venv)",
   "language": "python",
   "name": "python3"
  },
  "language_info": {
   "name": "python",
   "version": "3.10.5"
  },
  "orig_nbformat": 4,
  "vscode": {
   "interpreter": {
    "hash": "fb8413b4ec22e5ed3533d5b13fa3cfa6fb94399ee3c7e274203fdaa9ba57482e"
   }
  }
 },
 "nbformat": 4,
 "nbformat_minor": 2
}
