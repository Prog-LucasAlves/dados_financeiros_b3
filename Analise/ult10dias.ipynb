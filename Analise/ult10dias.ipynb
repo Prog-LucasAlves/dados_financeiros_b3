{
 "cells": [
  {
   "cell_type": "code",
   "execution_count": 1,
   "metadata": {},
   "outputs": [],
   "source": [
    "# Manipulação de dados\n",
    "import pandas as pd\n",
    "import numpy as np\n",
    "\n",
    "# Manipulação de datas\n",
    "from datetime import datetime, timedelta, date\n",
    "\n",
    "# Coleta cotações\n",
    "import yfinance as yf\n",
    "\n",
    "# Lista com os ativos\n",
    "import __list_ativos__"
   ]
  },
  {
   "cell_type": "code",
   "execution_count": 2,
   "metadata": {},
   "outputs": [],
   "source": [
    "# Lista com o nome dos ativos\n",
    "acao = __list_ativos__.lst_acao2"
   ]
  },
  {
   "cell_type": "code",
   "execution_count": null,
   "metadata": {},
   "outputs": [],
   "source": [
    "'''\n",
    "# Pegando as datas para os últimos 10 dias úteis\n",
    "date1, date2 = datetime.today() - timedelta(days=2), datetime.today() - timedelta(days=1)\n",
    "\n",
    "res = np.busday_count(date1.strftime('%Y-%m-%d'),\n",
    "                    date2.strftime('%Y-%m-%d'))\n",
    "i = 1\n",
    "while res < 11:\n",
    "    test_date1 = datetime.today() - timedelta(days=i)\n",
    "    res = np.busday_count(test_date1.strftime('%Y-%m-%d'),\n",
    "                    date2.strftime('%Y-%m-%d'))\n",
    "    i = i + 1\n",
    "    print(test_date1, '-', res)\n",
    "'''"
   ]
  },
  {
   "cell_type": "code",
   "execution_count": 3,
   "metadata": {},
   "outputs": [],
   "source": [
    "# Pegando as datas para os últimos 10 dias úteis\n",
    "date1, date2 = date.today() - timedelta(days=2), date.today() - timedelta(days=0)\n",
    "\n",
    "res = np.busday_count(date1.strftime('%Y-%m-%d'),\n",
    "                    date2.strftime('%Y-%m-%d'))\n",
    "i = 1\n",
    "while res < 11:\n",
    "    test_date1 = date.today() - timedelta(days=i)\n",
    "    res = np.busday_count(test_date1.strftime('%Y-%m-%d'),\n",
    "                    date2.strftime('%Y-%m-%d'))\n",
    "    i = i + 1"
   ]
  },
  {
   "cell_type": "code",
   "execution_count": 4,
   "metadata": {},
   "outputs": [],
   "source": [
    "# Inicio e fim das data de coletas das cotações\n",
    "start = test_date1 \n",
    "end = date2\n",
    "\n",
    "# Coletando as cotações de fechamento\n",
    "df = pd.DataFrame()\n",
    "for i in acao:\n",
    "    df[i] = yf.download(f'{i}.SA', start=test_date1, end=date2, progress=False)['Adj Close']\n",
    "\n",
    "# Calculando os retonos diários\n",
    "df = round(df.pct_change() * 100, 2)\n",
    "\n",
    "# Apagando os valores nulos\n",
    "df.dropna(inplace=True)\n"
   ]
  },
  {
   "cell_type": "code",
   "execution_count": 5,
   "metadata": {},
   "outputs": [],
   "source": [
    "# Reset do index\n",
    "df.reset_index(inplace=True)\n",
    "\n",
    "# Coletando os valores da coluna que era index (Data)\n",
    "lista_date = pd.DataFrame(df['Date'])\n",
    "lista_date['Date2'] = lista_date['Date'].dt.date\n",
    "lista_date2 = list(lista_date['Date2'])"
   ]
  },
  {
   "cell_type": "code",
   "execution_count": 6,
   "metadata": {},
   "outputs": [],
   "source": [
    "# Apagando a coluna 'Date' do DataFrame\n",
    "df.drop(['Date'], axis=1, inplace=True)\n",
    "\n",
    "# Fazendo a transposição linhas para colunas | colunas para linhas\n",
    "df = df.T\n",
    "\n",
    "# Criando uma nova 'variável' coluna com os retornos acumulados\n",
    "df['Total_Acumulado'] = df.sum(axis=1)\n",
    "\n",
    "# Renomeando as colunas\n",
    "j = 0\n",
    "for i in df.columns[:10]:\n",
    "    df.rename(columns={i:f'{lista_date2[j]}'}, inplace=True)\n",
    "    j = j + 1\n",
    "\n",
    "# Ordenando pelo maior retorno\n",
    "df.sort_values(by='Total_Acumulado', ascending=False)    "
   ]
  },
  {
   "cell_type": "code",
   "execution_count": 8,
   "metadata": {},
   "outputs": [
    {
     "data": {
      "text/html": [
       "<div>\n",
       "<style scoped>\n",
       "    .dataframe tbody tr th:only-of-type {\n",
       "        vertical-align: middle;\n",
       "    }\n",
       "\n",
       "    .dataframe tbody tr th {\n",
       "        vertical-align: top;\n",
       "    }\n",
       "\n",
       "    .dataframe thead th {\n",
       "        text-align: right;\n",
       "    }\n",
       "</style>\n",
       "<table border=\"1\" class=\"dataframe\">\n",
       "  <thead>\n",
       "    <tr style=\"text-align: right;\">\n",
       "      <th></th>\n",
       "      <th>2022-07-19</th>\n",
       "      <th>2022-07-20</th>\n",
       "      <th>2022-07-21</th>\n",
       "      <th>2022-07-22</th>\n",
       "      <th>2022-07-25</th>\n",
       "      <th>2022-07-26</th>\n",
       "      <th>2022-07-27</th>\n",
       "      <th>2022-07-28</th>\n",
       "      <th>2022-07-29</th>\n",
       "      <th>2022-08-01</th>\n",
       "      <th>Total_Acumulado</th>\n",
       "    </tr>\n",
       "  </thead>\n",
       "  <tbody>\n",
       "    <tr>\n",
       "      <th>AALR3</th>\n",
       "      <td>-0.26</td>\n",
       "      <td>-0.26</td>\n",
       "      <td>2.78</td>\n",
       "      <td>0.05</td>\n",
       "      <td>-0.60</td>\n",
       "      <td>0.86</td>\n",
       "      <td>0.15</td>\n",
       "      <td>1.94</td>\n",
       "      <td>0.59</td>\n",
       "      <td>-0.34</td>\n",
       "      <td>4.91</td>\n",
       "    </tr>\n",
       "    <tr>\n",
       "      <th>ABCB4</th>\n",
       "      <td>3.47</td>\n",
       "      <td>4.16</td>\n",
       "      <td>0.18</td>\n",
       "      <td>-2.62</td>\n",
       "      <td>2.87</td>\n",
       "      <td>-1.19</td>\n",
       "      <td>1.32</td>\n",
       "      <td>2.79</td>\n",
       "      <td>-0.46</td>\n",
       "      <td>-0.58</td>\n",
       "      <td>9.94</td>\n",
       "    </tr>\n",
       "  </tbody>\n",
       "</table>\n",
       "</div>"
      ],
      "text/plain": [
       "       2022-07-19  2022-07-20  2022-07-21  2022-07-22  2022-07-25  2022-07-26  \\\n",
       "AALR3       -0.26       -0.26        2.78        0.05       -0.60        0.86   \n",
       "ABCB4        3.47        4.16        0.18       -2.62        2.87       -1.19   \n",
       "\n",
       "       2022-07-27  2022-07-28  2022-07-29  2022-08-01  Total_Acumulado  \n",
       "AALR3        0.15        1.94        0.59       -0.34             4.91  \n",
       "ABCB4        1.32        2.79       -0.46       -0.58             9.94  "
      ]
     },
     "execution_count": 8,
     "metadata": {},
     "output_type": "execute_result"
    }
   ],
   "source": [
    "df"
   ]
  },
  {
   "cell_type": "code",
   "execution_count": null,
   "metadata": {},
   "outputs": [],
   "source": []
  },
  {
   "cell_type": "code",
   "execution_count": null,
   "metadata": {},
   "outputs": [],
   "source": [
    "df.reset_index(inplace=True)"
   ]
  },
  {
   "cell_type": "code",
   "execution_count": null,
   "metadata": {},
   "outputs": [],
   "source": [
    "df"
   ]
  },
  {
   "cell_type": "code",
   "execution_count": null,
   "metadata": {},
   "outputs": [],
   "source": [
    "lista_date = pd.DataFrame(df['Date'])\n",
    "lista_date['Date2'] = lista_date['Date'].dt.date\n",
    "lista_date['Date2'][0]\n",
    "\n",
    "lista_date2 = list(lista_date['Date2'])"
   ]
  },
  {
   "cell_type": "code",
   "execution_count": null,
   "metadata": {},
   "outputs": [],
   "source": [
    "df.drop(['Date'], axis=1, inplace=True)\n",
    "\n",
    "df = df.T\n",
    "df['Total_Acumulado'] = df.sum(axis=1)\n",
    "\n",
    "df"
   ]
  },
  {
   "cell_type": "code",
   "execution_count": null,
   "metadata": {},
   "outputs": [],
   "source": [
    "j = 0\n",
    "for i in df.columns[:10]:\n",
    "    print(i)\n",
    "    print(lista_date2[0])\n",
    "    df.rename(columns={i:f'{lista_date2[j]}'}, inplace=True)\n",
    "    j = j + 1"
   ]
  },
  {
   "cell_type": "code",
   "execution_count": null,
   "metadata": {},
   "outputs": [],
   "source": [
    "df"
   ]
  },
  {
   "cell_type": "code",
   "execution_count": null,
   "metadata": {},
   "outputs": [],
   "source": [
    "example_df.rename(columns={'Marks': 'Roll_no', \n",
    "                           'Roll_no': 'Marks'}, inplace=True)"
   ]
  }
 ],
 "metadata": {
  "kernelspec": {
   "display_name": "Python 3.10.5 ('.venv': venv)",
   "language": "python",
   "name": "python3"
  },
  "language_info": {
   "codemirror_mode": {
    "name": "ipython",
    "version": 3
   },
   "file_extension": ".py",
   "mimetype": "text/x-python",
   "name": "python",
   "nbconvert_exporter": "python",
   "pygments_lexer": "ipython3",
   "version": "3.10.5"
  },
  "orig_nbformat": 4,
  "vscode": {
   "interpreter": {
    "hash": "fb8413b4ec22e5ed3533d5b13fa3cfa6fb94399ee3c7e274203fdaa9ba57482e"
   }
  }
 },
 "nbformat": 4,
 "nbformat_minor": 2
}
