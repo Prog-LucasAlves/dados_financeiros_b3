{
 "cells": [
  {
   "cell_type": "code",
   "execution_count": 1,
   "metadata": {},
   "outputs": [
    {
     "data": {
      "text/plain": [
       "True"
      ]
     },
     "execution_count": 1,
     "metadata": {},
     "output_type": "execute_result"
    }
   ],
   "source": [
    "import pandas as pd\n",
    "import os\n",
    "import psycopg2\n",
    "import dotenv\n",
    "\n",
    "dotenv.load_dotenv(dotenv.find_dotenv())"
   ]
  },
  {
   "cell_type": "code",
   "execution_count": 2,
   "metadata": {},
   "outputs": [],
   "source": [
    "# Cria conexão com o banco de dados\n",
    "def conexao():\n",
    "    con = psycopg2.connect(\n",
    "        user=os.getenv(\"POSTGRES_USER\"),\n",
    "        password=os.getenv(\"POSTGRES_PASSWORD\"),\n",
    "        database=os.getenv(\"POSTGRES_DB\"),\n",
    "        host=\"localhost\",\n",
    "    )\n",
    "\n",
    "    return con\n",
    "\n",
    "# Cria função para selecionar os dados\n",
    "def se_dados(query):\n",
    "    vcon = conexao()\n",
    "    c = vcon.cursor()\n",
    "    c.execute(query)\n",
    "    rows = c.fetchall()\n",
    "    vcon.commit()\n",
    "    vcon.close()\n",
    "    return rows                    "
   ]
  },
  {
   "cell_type": "code",
   "execution_count": 3,
   "metadata": {},
   "outputs": [
    {
     "ename": "OperationalError",
     "evalue": "connection to server at \"localhost\" (::1), port 5432 failed: Connection refused (0x0000274D/10061)\n\tIs the server running on that host and accepting TCP/IP connections?\nconnection to server at \"localhost\" (127.0.0.1), port 5432 failed: Connection refused (0x0000274D/10061)\n\tIs the server running on that host and accepting TCP/IP connections?\n",
     "output_type": "error",
     "traceback": [
      "\u001b[1;31m---------------------------------------------------------------------------\u001b[0m",
      "\u001b[1;31mOperationalError\u001b[0m                          Traceback (most recent call last)",
      "\u001b[1;32md:\\Prjts\\dados_financeiros_b3\\Analise\\rl_divida.ipynb Cell 3'\u001b[0m in \u001b[0;36m<cell line: 9>\u001b[1;34m()\u001b[0m\n\u001b[0;32m      <a href='vscode-notebook-cell:/d%3A/Prjts/dados_financeiros_b3/Analise/rl_divida.ipynb#ch0000002?line=0'>1</a>\u001b[0m \u001b[39m# Cria query para gerar o relatório\u001b[39;00m\n\u001b[0;32m      <a href='vscode-notebook-cell:/d%3A/Prjts/dados_financeiros_b3/Analise/rl_divida.ipynb#ch0000002?line=1'>2</a>\u001b[0m query \u001b[39m=\u001b[39m \u001b[39mf\u001b[39m\u001b[39m\"\u001b[39m\u001b[39m SELECT DISTINCT papel, div_liquida, cotacao, pl, vpa, ev_ebitda, marg_liquida, lucro_liquido_12m, lucro_liquido_3m \u001b[39m\u001b[39m\\\u001b[39;00m\n\u001b[0;32m      <a href='vscode-notebook-cell:/d%3A/Prjts/dados_financeiros_b3/Analise/rl_divida.ipynb#ch0000002?line=2'>3</a>\u001b[0m \u001b[39m            FROM dados \u001b[39m\u001b[39m\\\u001b[39;00m\n\u001b[0;32m      <a href='vscode-notebook-cell:/d%3A/Prjts/dados_financeiros_b3/Analise/rl_divida.ipynb#ch0000002?line=3'>4</a>\u001b[0m \u001b[39m                WHERE data_dado_inserido >= \u001b[39m\u001b[39m'\u001b[39m\u001b[39m17-05-2022\u001b[39m\u001b[39m'\u001b[39m\u001b[39m \u001b[39m\u001b[39m\\\u001b[39;00m\n\u001b[1;32m   (...)\u001b[0m\n\u001b[0;32m      <a href='vscode-notebook-cell:/d%3A/Prjts/dados_financeiros_b3/Analise/rl_divida.ipynb#ch0000002?line=6'>7</a>\u001b[0m \u001b[39m                    AND pl < 15 \u001b[39m\u001b[39m\\\u001b[39;00m\n\u001b[0;32m      <a href='vscode-notebook-cell:/d%3A/Prjts/dados_financeiros_b3/Analise/rl_divida.ipynb#ch0000002?line=7'>8</a>\u001b[0m \u001b[39m                        ORDER BY 2 \u001b[39m\u001b[39m\"\u001b[39m\n\u001b[1;32m----> <a href='vscode-notebook-cell:/d%3A/Prjts/dados_financeiros_b3/Analise/rl_divida.ipynb#ch0000002?line=8'>9</a>\u001b[0m result \u001b[39m=\u001b[39m se_dados(query)\n\u001b[0;32m     <a href='vscode-notebook-cell:/d%3A/Prjts/dados_financeiros_b3/Analise/rl_divida.ipynb#ch0000002?line=10'>11</a>\u001b[0m \u001b[39m# Cria DataFrame e salva o arquivo gerado em csv\u001b[39;00m\n\u001b[0;32m     <a href='vscode-notebook-cell:/d%3A/Prjts/dados_financeiros_b3/Analise/rl_divida.ipynb#ch0000002?line=11'>12</a>\u001b[0m df_rl \u001b[39m=\u001b[39m pd\u001b[39m.\u001b[39mDataFrame(result)\n",
      "\u001b[1;32md:\\Prjts\\dados_financeiros_b3\\Analise\\rl_divida.ipynb Cell 2'\u001b[0m in \u001b[0;36mse_dados\u001b[1;34m(query)\u001b[0m\n\u001b[0;32m     <a href='vscode-notebook-cell:/d%3A/Prjts/dados_financeiros_b3/Analise/rl_divida.ipynb#ch0000001?line=12'>13</a>\u001b[0m \u001b[39mdef\u001b[39;00m \u001b[39mse_dados\u001b[39m(query):\n\u001b[1;32m---> <a href='vscode-notebook-cell:/d%3A/Prjts/dados_financeiros_b3/Analise/rl_divida.ipynb#ch0000001?line=13'>14</a>\u001b[0m     vcon \u001b[39m=\u001b[39m conexao()\n\u001b[0;32m     <a href='vscode-notebook-cell:/d%3A/Prjts/dados_financeiros_b3/Analise/rl_divida.ipynb#ch0000001?line=14'>15</a>\u001b[0m     c \u001b[39m=\u001b[39m vcon\u001b[39m.\u001b[39mcursor()\n\u001b[0;32m     <a href='vscode-notebook-cell:/d%3A/Prjts/dados_financeiros_b3/Analise/rl_divida.ipynb#ch0000001?line=15'>16</a>\u001b[0m     c\u001b[39m.\u001b[39mexecute(query)\n",
      "\u001b[1;32md:\\Prjts\\dados_financeiros_b3\\Analise\\rl_divida.ipynb Cell 2'\u001b[0m in \u001b[0;36mconexao\u001b[1;34m()\u001b[0m\n\u001b[0;32m      <a href='vscode-notebook-cell:/d%3A/Prjts/dados_financeiros_b3/Analise/rl_divida.ipynb#ch0000001?line=1'>2</a>\u001b[0m \u001b[39mdef\u001b[39;00m \u001b[39mconexao\u001b[39m():\n\u001b[1;32m----> <a href='vscode-notebook-cell:/d%3A/Prjts/dados_financeiros_b3/Analise/rl_divida.ipynb#ch0000001?line=2'>3</a>\u001b[0m     con \u001b[39m=\u001b[39m psycopg2\u001b[39m.\u001b[39;49mconnect(\n\u001b[0;32m      <a href='vscode-notebook-cell:/d%3A/Prjts/dados_financeiros_b3/Analise/rl_divida.ipynb#ch0000001?line=3'>4</a>\u001b[0m         user\u001b[39m=\u001b[39;49mos\u001b[39m.\u001b[39;49mgetenv(\u001b[39m\"\u001b[39;49m\u001b[39mPOSTGRES_USER\u001b[39;49m\u001b[39m\"\u001b[39;49m),\n\u001b[0;32m      <a href='vscode-notebook-cell:/d%3A/Prjts/dados_financeiros_b3/Analise/rl_divida.ipynb#ch0000001?line=4'>5</a>\u001b[0m         password\u001b[39m=\u001b[39;49mos\u001b[39m.\u001b[39;49mgetenv(\u001b[39m\"\u001b[39;49m\u001b[39mPOSTGRES_PASSWORD\u001b[39;49m\u001b[39m\"\u001b[39;49m),\n\u001b[0;32m      <a href='vscode-notebook-cell:/d%3A/Prjts/dados_financeiros_b3/Analise/rl_divida.ipynb#ch0000001?line=5'>6</a>\u001b[0m         database\u001b[39m=\u001b[39;49mos\u001b[39m.\u001b[39;49mgetenv(\u001b[39m\"\u001b[39;49m\u001b[39mPOSTGRES_DB\u001b[39;49m\u001b[39m\"\u001b[39;49m),\n\u001b[0;32m      <a href='vscode-notebook-cell:/d%3A/Prjts/dados_financeiros_b3/Analise/rl_divida.ipynb#ch0000001?line=6'>7</a>\u001b[0m         host\u001b[39m=\u001b[39;49m\u001b[39m\"\u001b[39;49m\u001b[39mlocalhost\u001b[39;49m\u001b[39m\"\u001b[39;49m,\n\u001b[0;32m      <a href='vscode-notebook-cell:/d%3A/Prjts/dados_financeiros_b3/Analise/rl_divida.ipynb#ch0000001?line=7'>8</a>\u001b[0m     )\n\u001b[0;32m     <a href='vscode-notebook-cell:/d%3A/Prjts/dados_financeiros_b3/Analise/rl_divida.ipynb#ch0000001?line=9'>10</a>\u001b[0m     \u001b[39mreturn\u001b[39;00m con\n",
      "File \u001b[1;32md:\\Prjts\\dados_financeiros_b3\\.venv\\lib\\site-packages\\psycopg2\\__init__.py:122\u001b[0m, in \u001b[0;36mconnect\u001b[1;34m(dsn, connection_factory, cursor_factory, **kwargs)\u001b[0m\n\u001b[0;32m    119\u001b[0m     kwasync[\u001b[39m'\u001b[39m\u001b[39masync_\u001b[39m\u001b[39m'\u001b[39m] \u001b[39m=\u001b[39m kwargs\u001b[39m.\u001b[39mpop(\u001b[39m'\u001b[39m\u001b[39masync_\u001b[39m\u001b[39m'\u001b[39m)\n\u001b[0;32m    121\u001b[0m dsn \u001b[39m=\u001b[39m _ext\u001b[39m.\u001b[39mmake_dsn(dsn, \u001b[39m*\u001b[39m\u001b[39m*\u001b[39mkwargs)\n\u001b[1;32m--> 122\u001b[0m conn \u001b[39m=\u001b[39m _connect(dsn, connection_factory\u001b[39m=\u001b[39mconnection_factory, \u001b[39m*\u001b[39m\u001b[39m*\u001b[39mkwasync)\n\u001b[0;32m    123\u001b[0m \u001b[39mif\u001b[39;00m cursor_factory \u001b[39mis\u001b[39;00m \u001b[39mnot\u001b[39;00m \u001b[39mNone\u001b[39;00m:\n\u001b[0;32m    124\u001b[0m     conn\u001b[39m.\u001b[39mcursor_factory \u001b[39m=\u001b[39m cursor_factory\n",
      "\u001b[1;31mOperationalError\u001b[0m: connection to server at \"localhost\" (::1), port 5432 failed: Connection refused (0x0000274D/10061)\n\tIs the server running on that host and accepting TCP/IP connections?\nconnection to server at \"localhost\" (127.0.0.1), port 5432 failed: Connection refused (0x0000274D/10061)\n\tIs the server running on that host and accepting TCP/IP connections?\n"
     ]
    }
   ],
   "source": [
    "# Cria query para gerar o relatório\n",
    "query = f\" SELECT DISTINCT papel, div_liquida, cotacao, pl, vpa, ev_ebitda, marg_liquida, lucro_liquido_12m, lucro_liquido_3m \\\n",
    "            FROM dados \\\n",
    "                WHERE data_dado_inserido >= '17-05-2022' \\\n",
    "                    AND div_liquida < '0' \\\n",
    "                    AND pl > 5 \\\n",
    "                    AND pl < 15 \\\n",
    "                        ORDER BY 2 \"\n",
    "result = se_dados(query)\n",
    "\n",
    "# Cria DataFrame e salva o arquivo gerado em csv\n",
    "df_rl = pd.DataFrame(result)\n",
    "# Renomea o nome das colunas do Dataframe\n",
    "df_rl.rename(columns={0:'Papel', \n",
    "    1:'Dívida Líquida', \n",
    "    2:'Cotação',\n",
    "    3:'PL',\n",
    "    4:'VPA',\n",
    "    5:'EV/Ebitda',\n",
    "    6:'Margem Líquida',\n",
    "    7:'Lucro Líquido 12m',\n",
    "    8:'Lucro Líquido 3m'}, inplace=True)\n",
    "df_rl.to_csv('../Analise/relatorio.csv', sep=';', encoding='ISO-8859-1')\n",
    "df_rl.head(7)"
   ]
  },
  {
   "cell_type": "code",
   "execution_count": 5,
   "metadata": {},
   "outputs": [
    {
     "name": "stdout",
     "output_type": "stream",
     "text": [
      "Email Enviado\n"
     ]
    }
   ],
   "source": [
    "import win32com.client as win32\n",
    "import pathlib\n",
    "\n",
    "# Inserindo arquivo a ser anexado\n",
    "anexo = pathlib.Path('../Analise/relatorio.csv')\n",
    "anexo_ab = str(anexo.absolute())\n",
    "\n",
    "# Criar a integração com o outlook\n",
    "outlook = win32.Dispatch('outlook.application')\n",
    "\n",
    "# Criar um email\n",
    "email = outlook.CreateItem(0)\n",
    "\n",
    "# Configurar as informações do seu e-mail\n",
    "email.To = os.getenv(\"EMAIL\")\n",
    "email.Subject = \" Relatório - Ações listadas na Bolsa \"\n",
    "email.HTMLBody = f\"\"\"\n",
    "\n",
    "<p>Olá,</p>\n",
    "<br>\n",
    "<p>Segue em anexo o relatório solicitado.</p>\n",
    "<br>\n",
    "<p>Atenciosamente,</p>\n",
    "<p>Lucas Alves.</p>\n",
    "<p>Analista de Dados</p>\n",
    "<br>\n",
    "<img src=\"../Image/1-relatorio-gerencial.jpg\">\n",
    "\n",
    "\"\"\"\n",
    "# Configurar anexo\n",
    "email.Attachments.Add(anexo_ab)\n",
    "\n",
    "# Envia o e-mail\n",
    "email.Send()\n",
    "print(\"Email Enviado\")"
   ]
  }
 ],
 "metadata": {
  "interpreter": {
   "hash": "fb8413b4ec22e5ed3533d5b13fa3cfa6fb94399ee3c7e274203fdaa9ba57482e"
  },
  "kernelspec": {
   "display_name": "Python 3.10.4 ('.venv': venv)",
   "language": "python",
   "name": "python3"
  },
  "language_info": {
   "codemirror_mode": {
    "name": "ipython",
    "version": 3
   },
   "file_extension": ".py",
   "mimetype": "text/x-python",
   "name": "python",
   "nbconvert_exporter": "python",
   "pygments_lexer": "ipython3",
   "version": "3.10.5"
  },
  "orig_nbformat": 4
 },
 "nbformat": 4,
 "nbformat_minor": 2
}
