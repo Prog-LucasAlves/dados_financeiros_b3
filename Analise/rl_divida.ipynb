{
 "cells": [
  {
   "cell_type": "code",
   "execution_count": 1,
   "metadata": {},
   "outputs": [
    {
     "data": {
      "text/plain": [
       "True"
      ]
     },
     "execution_count": 1,
     "metadata": {},
     "output_type": "execute_result"
    }
   ],
   "source": [
    "import pandas as pd\n",
    "import os\n",
    "import psycopg2\n",
    "import dotenv\n",
    "\n",
    "dotenv.load_dotenv(dotenv.find_dotenv())"
   ]
  },
  {
   "cell_type": "code",
   "execution_count": 2,
   "metadata": {},
   "outputs": [],
   "source": [
    "# Cria conexão com o banco de dados\n",
    "def conexao():\n",
    "    con = psycopg2.connect(\n",
    "        user=os.getenv(\"POSTGRES_USER\"),\n",
    "        password=os.getenv(\"POSTGRES_PASSWORD\"),\n",
    "        database=os.getenv(\"POSTGRES_DB\"),\n",
    "        host=\"localhost\",\n",
    "    )\n",
    "\n",
    "    return con\n",
    "\n",
    "# Cria função para selecionar os dados\n",
    "def se_dados(query):\n",
    "    vcon = conexao()\n",
    "    c = vcon.cursor()\n",
    "    c.execute(query)\n",
    "    rows = c.fetchall()\n",
    "    vcon.commit()\n",
    "    vcon.close()\n",
    "    return rows                    "
   ]
  },
  {
   "cell_type": "code",
   "execution_count": 3,
   "metadata": {},
   "outputs": [
    {
     "data": {
      "text/html": [
       "<div>\n",
       "<style scoped>\n",
       "    .dataframe tbody tr th:only-of-type {\n",
       "        vertical-align: middle;\n",
       "    }\n",
       "\n",
       "    .dataframe tbody tr th {\n",
       "        vertical-align: top;\n",
       "    }\n",
       "\n",
       "    .dataframe thead th {\n",
       "        text-align: right;\n",
       "    }\n",
       "</style>\n",
       "<table border=\"1\" class=\"dataframe\">\n",
       "  <thead>\n",
       "    <tr style=\"text-align: right;\">\n",
       "      <th></th>\n",
       "      <th>Papel</th>\n",
       "      <th>Dívida Líquida</th>\n",
       "      <th>Cotação</th>\n",
       "      <th>PL</th>\n",
       "      <th>VPA</th>\n",
       "      <th>EV/Ebitda</th>\n",
       "      <th>Margem Líquida</th>\n",
       "      <th>Lucro Líquido 12m</th>\n",
       "      <th>Lucro Líquido 3m</th>\n",
       "    </tr>\n",
       "  </thead>\n",
       "  <tbody>\n",
       "    <tr>\n",
       "      <th>0</th>\n",
       "      <td>EZTC3</td>\n",
       "      <td>-R$ 1.011.560.000,00</td>\n",
       "      <td>R$ 20,57</td>\n",
       "      <td>9.39</td>\n",
       "      <td>19.34</td>\n",
       "      <td>13.15</td>\n",
       "      <td>49.6</td>\n",
       "      <td>R$ 497.298.000,00</td>\n",
       "      <td>R$ 145.247.000,00</td>\n",
       "    </tr>\n",
       "    <tr>\n",
       "      <th>1</th>\n",
       "      <td>SOJA3</td>\n",
       "      <td>-R$ 121.118.000,00</td>\n",
       "      <td>R$ 15,77</td>\n",
       "      <td>13.80</td>\n",
       "      <td>5.35</td>\n",
       "      <td>12.08</td>\n",
       "      <td>15.3</td>\n",
       "      <td>R$ 133.826.000,00</td>\n",
       "      <td>R$ 88.087.000,00</td>\n",
       "    </tr>\n",
       "    <tr>\n",
       "      <th>2</th>\n",
       "      <td>DOHL3</td>\n",
       "      <td>-R$ 2.964.000,00</td>\n",
       "      <td>R$ 19,00</td>\n",
       "      <td>10.58</td>\n",
       "      <td>9.28</td>\n",
       "      <td>12.95</td>\n",
       "      <td>19.8</td>\n",
       "      <td>R$ 135.866.000,00</td>\n",
       "      <td>R$ 28.598.000,00</td>\n",
       "    </tr>\n",
       "    <tr>\n",
       "      <th>3</th>\n",
       "      <td>HAGA3</td>\n",
       "      <td>-R$ 2.862.580,00</td>\n",
       "      <td>R$ 6,68</td>\n",
       "      <td>7.92</td>\n",
       "      <td>-5.57</td>\n",
       "      <td>12.26</td>\n",
       "      <td>22.3</td>\n",
       "      <td>R$ 10.037.000,00</td>\n",
       "      <td>R$ 1.246.230,00</td>\n",
       "    </tr>\n",
       "  </tbody>\n",
       "</table>\n",
       "</div>"
      ],
      "text/plain": [
       "   Papel        Dívida Líquida   Cotação     PL    VPA  EV/Ebitda  \\\n",
       "0  EZTC3  -R$ 1.011.560.000,00  R$ 20,57   9.39  19.34      13.15   \n",
       "1  SOJA3    -R$ 121.118.000,00  R$ 15,77  13.80   5.35      12.08   \n",
       "2  DOHL3      -R$ 2.964.000,00  R$ 19,00  10.58   9.28      12.95   \n",
       "3  HAGA3      -R$ 2.862.580,00   R$ 6,68   7.92  -5.57      12.26   \n",
       "\n",
       "   Margem Líquida  Lucro Líquido 12m   Lucro Líquido 3m  \n",
       "0            49.6  R$ 497.298.000,00  R$ 145.247.000,00  \n",
       "1            15.3  R$ 133.826.000,00   R$ 88.087.000,00  \n",
       "2            19.8  R$ 135.866.000,00   R$ 28.598.000,00  \n",
       "3            22.3   R$ 10.037.000,00    R$ 1.246.230,00  "
      ]
     },
     "execution_count": 3,
     "metadata": {},
     "output_type": "execute_result"
    }
   ],
   "source": [
    "# Cria query para gerar o relatório\n",
    "query = f\" SELECT DISTINCT papel, div_liquida, cotacao, pl, vpa, ev_ebitda, marg_liquida, lucro_liquido_12m, lucro_liquido_3m \\\n",
    "            FROM dados \\\n",
    "                WHERE data_dado_inserido >= '20-12-2021' \\\n",
    "                    AND div_liquida < '0' \\\n",
    "                    AND pl > 5 \\\n",
    "                    AND pl < 15 \\\n",
    "                    AND ev_ebitda > 12 \\\n",
    "                        ORDER BY 2 \"\n",
    "result = se_dados(query)\n",
    "\n",
    "# Cria DataFrame e salva o arquivo gerado em csv\n",
    "df_rl = pd.DataFrame(result)\n",
    "# Renomea o nome das colunas do Dataframe\n",
    "df_rl.rename(columns={0:'Papel', \n",
    "    1:'Dívida Líquida', \n",
    "    2:'Cotação',\n",
    "    3:'PL',\n",
    "    4:'VPA',\n",
    "    5:'EV/Ebitda',\n",
    "    6:'Margem Líquida',\n",
    "    7:'Lucro Líquido 12m',\n",
    "    8:'Lucro Líquido 3m'}, inplace=True)\n",
    "df_rl.to_csv('../Analise/relatorio.csv', sep=';', encoding='ISO-8859-1')\n",
    "df_rl.head(7)"
   ]
  },
  {
   "cell_type": "code",
   "execution_count": 10,
   "metadata": {},
   "outputs": [
    {
     "name": "stdout",
     "output_type": "stream",
     "text": [
      "Email Enviado\n"
     ]
    }
   ],
   "source": [
    "import win32com.client as win32\n",
    "import pathlib\n",
    "\n",
    "# Inserindo arquivo a ser anexado\n",
    "anexo = pathlib.Path('../Analise/relatorio.csv')\n",
    "anexo_ab = str(anexo.absolute())\n",
    "\n",
    "# Criar a integração com o outlook\n",
    "outlook = win32.Dispatch('outlook.application')\n",
    "\n",
    "# Criar um email\n",
    "email = outlook.CreateItem(0)\n",
    "\n",
    "# Configurar as informações do seu e-mail\n",
    "email.To = os.getenv(\"EMAIL\")\n",
    "email.Subject = \" Relatório - Ações listadas na Bolsa \"\n",
    "email.HTMLBody = f\"\"\"\n",
    "\n",
    "<p>Olá,</p>\n",
    "<br>\n",
    "<p>Segue em anexo o relatório solicitado.</p>\n",
    "<br>\n",
    "<p>Atenciosamente,</p>\n",
    "<p>Lucas Alves.</p>\n",
    "<p>Analista de Dados</p>\n",
    "<br>\n",
    "<img src=\"../Image/1-relatorio-gerencial.jpg\">\n",
    "\n",
    "\"\"\"\n",
    "\n",
    "# Configurar anexo\n",
    "email.Attachments.Add(anexo_ab)\n",
    "\n",
    "# Envia o e-mail\n",
    "email.Send()\n",
    "print(\"Email Enviado\")"
   ]
  }
 ],
 "metadata": {
  "interpreter": {
   "hash": "afc191c8ee3715319b22903a0fd4797943b739b16a492493655bb7270ab7e685"
  },
  "kernelspec": {
   "display_name": "Python 3.8.12 64-bit ('.venv': venv)",
   "name": "python3"
  },
  "language_info": {
   "codemirror_mode": {
    "name": "ipython",
    "version": 3
   },
   "file_extension": ".py",
   "mimetype": "text/x-python",
   "name": "python",
   "nbconvert_exporter": "python",
   "pygments_lexer": "ipython3",
   "version": "3.9.5"
  },
  "orig_nbformat": 4
 },
 "nbformat": 4,
 "nbformat_minor": 2
}
