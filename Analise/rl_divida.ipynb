{
 "cells": [
  {
   "cell_type": "code",
   "execution_count": null,
   "metadata": {},
   "outputs": [],
   "source": [
    "import pandas as pd\n",
    "import os\n",
    "import psycopg2\n",
    "import dotenv\n",
    "\n",
    "dotenv.load_dotenv(dotenv.find_dotenv())"
   ]
  },
  {
   "cell_type": "code",
   "execution_count": null,
   "metadata": {},
   "outputs": [],
   "source": [
    "# Cria conexão com o banco de dados\n",
    "def conexao():\n",
    "    con = psycopg2.connect(\n",
    "        user=os.getenv(\"POSTGRES_USER\"),\n",
    "        password=os.getenv(\"POSTGRES_PASSWORD\"),\n",
    "        database=os.getenv(\"POSTGRES_DB\"),\n",
    "        host=\"localhost\",\n",
    "    )\n",
    "\n",
    "    return con\n",
    "\n",
    "# Cria função para selecionar os dados\n",
    "def se_dados(query):\n",
    "    vcon = conexao()\n",
    "    c = vcon.cursor()\n",
    "    c.execute(query)\n",
    "    rows = c.fetchall()\n",
    "    vcon.commit()\n",
    "    vcon.close()\n",
    "    return rows                    "
   ]
  },
  {
   "cell_type": "code",
   "execution_count": null,
   "metadata": {},
   "outputs": [],
   "source": [
    "# Cria query para gerar o relatório\n",
    "query = f\" SELECT DISTINCT papel, div_liquida, cotacao, pl, vpa, ev_ebitda, marg_liquida, lucro_liquido_12m, lucro_liquido_3m \\\n",
    "            FROM dados \\\n",
    "                WHERE data_dado_inserido >= '09-11-2021' \\\n",
    "                    AND div_liquida < '0' \\\n",
    "                        ORDER BY 2 \"\n",
    "result = se_dados(query)\n",
    "\n",
    "# Cria DataFrame e salva o arquivo gerado em csv\n",
    "df_rl = pd.DataFrame(result)\n",
    "# Renomea o nome das colunas do Dataframe\n",
    "df_rl.rename(columns={0:'Papel', \n",
    "    1:'Dívida Líquida', \n",
    "    2:'Cotação',\n",
    "    3:'PL',\n",
    "    4:'VPA',\n",
    "    5:'EV/Ebitda',\n",
    "    6:'Margem Líquida',\n",
    "    7:'Lucro Líquido 12m',\n",
    "    8:'Lucro Líquido 3m'}, inplace=True)\n",
    "df_rl.to_csv('../Analise/relatorio.csv', sep=';', encoding='ISO-8859-1')\n",
    "df_rl.head(7)"
   ]
  },
  {
   "cell_type": "code",
   "execution_count": null,
   "metadata": {},
   "outputs": [],
   "source": [
    "import win32com.client as win32\n",
    "import pathlib\n",
    "\n",
    "# Inserindo arquivo a ser anexado\n",
    "anexo = pathlib.Path('../Analise/relatorio.csv')\n",
    "anexo_ab = str(anexo.absolute())\n",
    "\n",
    "# Criar a integração com o outlook\n",
    "outlook = win32.Dispatch('outlook.application')\n",
    "\n",
    "# Criar um email\n",
    "email = outlook.CreateItem(0)\n",
    "\n",
    "# Configurar as informações do seu e-mail\n",
    "email.To = os.getenv(\"EMAIL\")\n",
    "email.Subject = \" Relatório - Ações listadas na Bolsa \"\n",
    "email.HTMLBody = f\"\"\"\n",
    "\n",
    "<p>Olá,</p>\n",
    "<br>\n",
    "<p>Segue em anexo o relatório solicitado.</p>\n",
    "<br>\n",
    "<p>Atenciosamente,</p>\n",
    "<p>Lucas Alves.</p>\n",
    "<p>Analista de Dados</p>\n",
    "<br>\n",
    "<img src=\"../Image/1-relatorio-gerencial.jpg\">\n",
    "\n",
    "\"\"\"\n",
    "\n",
    "# Configurar anexo\n",
    "email.Attachments.Add(anexo_ab)\n",
    "\n",
    "# Envia o e-mail\n",
    "email.Send()\n",
    "print(\"Email Enviado\")"
   ]
  }
 ],
 "metadata": {
  "interpreter": {
   "hash": "afc191c8ee3715319b22903a0fd4797943b739b16a492493655bb7270ab7e685"
  },
  "kernelspec": {
   "display_name": "Python 3.8.12 64-bit ('.venv': venv)",
   "name": "python3"
  },
  "language_info": {
   "codemirror_mode": {
    "name": "ipython",
    "version": 3
   },
   "file_extension": ".py",
   "mimetype": "text/x-python",
   "name": "python",
   "nbconvert_exporter": "python",
   "pygments_lexer": "ipython3",
   "version": "3.9.5"
  },
  "orig_nbformat": 4
 },
 "nbformat": 4,
 "nbformat_minor": 2
}
